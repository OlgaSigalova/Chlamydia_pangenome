{
 "cells": [
  {
   "cell_type": "code",
   "execution_count": 34,
   "metadata": {},
   "outputs": [],
   "source": [
    "from Bio import SeqIO\n",
    "import sys\n",
    "import os\n",
    "import pandas as pd\n",
    "import numpy as np\n",
    "import MySQLdb\n",
    "from collections import Counter \n",
    "import re\n",
    "import itertools\n",
    "import MySQLdb\n",
    "\n",
    "connection = MySQLdb.connect(\n",
    "                host = '127.0.0.1',\n",
    "                user = 'root',\n",
    "                passwd = 'Pangenome19')\n",
    "\n",
    "cursor = connection.cursor()\n",
    "connection.autocommit(True)\n",
    "cursor.execute(\"USE OGroups19\")\n",
    "\n",
    "\n",
    "main_dir=\"/Users/sigalova/Desktop/Chlamydia_pangenome/\""
   ]
  },
  {
   "cell_type": "markdown",
   "metadata": {},
   "source": [
    "# Genome table"
   ]
  },
  {
   "cell_type": "code",
   "execution_count": 59,
   "metadata": {},
   "outputs": [],
   "source": [
    "# prepare\n",
    "\n",
    "cursor.execute('DROP TABLE IF EXISTS genomes;')\n",
    "cursor.execute(\"\"\"CREATE TABLE genomes (\n",
    "genome_id VARCHAR(10) NOT NULL,\n",
    "PRIMARY KEY(genome_id),\n",
    "full_name TEXT,\n",
    "gi INT NOT NULL,\n",
    "ref VARCHAR(20) NOT NULL, \n",
    "strain TEXT,\n",
    "species TEXT,\n",
    "DNAlength INT DEFAULT NULL,\n",
    "serovar TEXT,\n",
    "specificity TEXT,\n",
    "cluster TEXT,\n",
    "submitter TEXT,\n",
    "year_sequenced TEXT,\n",
    "collected_by TEXT,\n",
    "year_collected TEXT,\n",
    "anomality TEXT,\n",
    "comment TEXT,\n",
    "publication TEXT,\n",
    "contigs INT);\n",
    "\"\"\")\n",
    "\n",
    "sql_gen=\"\"\" INSERT INTO genomes (genome_id, full_name, gi, ref, strain, species, DNAlength, \n",
    "        serovar, specificity, cluster, submitter, year_sequenced, collected_by, year_collected , \n",
    "        anomality, comment, publication, contigs) \n",
    "        VALUES (%s, %s, %s, %s,%s,%s, %s, %s, %s,%s,%s, %s, %s, %s,%s,%s,%s, %s);\"\"\"\n",
    "\n"
   ]
  },
  {
   "cell_type": "code",
   "execution_count": 58,
   "metadata": {},
   "outputs": [],
   "source": [
    "# Genome table\n",
    "genomes=pd.read_csv(main_dir+\"info/genomes_info_jun_2016.csv\")\n",
    "\n",
    "# Remove duplicate genomes and bad assemblies\n",
    "genomes=pd.read_csv(main_dir+\"info/genomes_info_jun_2016.csv\")\n",
    "genomes=genomes[genomes[\"specificity\"]!='recombinant'].replace(np.nan,'', regex=True)\n",
    "filtered=['C091','C086','C112','C113','C017','C135','C131'] # these genomes are either duplicates (strain or whole genome) or of bad assembly\n",
    "genomes=genomes[~genomes[\"genome_id\"].isin(filtered)]\n",
    "genomes.index=genomes[\"genome_id\"]\n",
    "\n",
    "# Lists of genomes with outgroup, without outgroup, without draft genomes\n",
    "genome_ids_withOutgroup=genomes[\"genome_id\"].tolist() \n",
    "genome_ids_withoutOutgroup=[x for x in genome_ids_withOutgroup if x!=\"W001\"] \n",
    "genome_ids_nodraft=genomes[(genomes[\"contigs\"]==1) & (genomes[\"genome_id\"]!=\"W001\")][\"genome_id\"].tolist()    # without outgroup, "
   ]
  },
  {
   "cell_type": "code",
   "execution_count": 60,
   "metadata": {},
   "outputs": [],
   "source": [
    "# Fill database \n",
    "\n",
    "for i in range(genomes.shape[0]):\n",
    "    cursor.execute(sql_gen,tuple(genomes.iloc[i,]))"
   ]
  }
 ],
 "metadata": {
  "kernelspec": {
   "display_name": "Python 2",
   "language": "python",
   "name": "python2"
  },
  "language_info": {
   "codemirror_mode": {
    "name": "ipython",
    "version": 2
   },
   "file_extension": ".py",
   "mimetype": "text/x-python",
   "name": "python",
   "nbconvert_exporter": "python",
   "pygments_lexer": "ipython2",
   "version": "2.7.13"
  }
 },
 "nbformat": 4,
 "nbformat_minor": 2
}
