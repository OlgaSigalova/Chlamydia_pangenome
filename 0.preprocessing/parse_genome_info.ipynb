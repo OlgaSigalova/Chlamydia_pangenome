{
 "cells": [
  {
   "cell_type": "code",
   "execution_count": 1,
   "metadata": {},
   "outputs": [],
   "source": [
    "from Bio import SeqIO\n",
    "import sys\n",
    "import os\n",
    "import pandas as pd\n",
    "import numpy as np\n",
    "from collections import Counter \n",
    "import re\n",
    "import itertools\n",
    "import fnmatch"
   ]
  },
  {
   "cell_type": "code",
   "execution_count": 78,
   "metadata": {},
   "outputs": [],
   "source": [
    "### Parse original GBK files ###\n",
    "\n",
    "# input files\n",
    "path_raw = \"/Users/sigalova/Desktop/Chlamydia_pangenome/data/genomes_apr_2019_raw\"\n",
    "gbk_filenames_raw = fnmatch.filter(os.listdir(path_raw), '*.gbff')\n",
    "\n",
    "# data.frame to write info\n",
    "genomes_raw = pd.DataFrame(columns = [\"assembly_id\", \"accession\", \"id\", \"DNA_length\", \"full_name\"])\n",
    "i = 0\n",
    "\n",
    "# output file\n",
    "outf_raw = \"/Users/sigalova/Desktop/Chlamydia_pangenome/info/genome_info_by_contig_raw_apr2019.csv\"\n",
    "try:\n",
    "    os.remove(outf_raw)\n",
    "except:\n",
    "    pass\n",
    "\n",
    "for fr in gbk_filenames_raw:\n",
    "    \n",
    "    file_raw = path_raw + \"/\" + fr\n",
    "    ih_r  = open(file_raw, \"r\")\n",
    "    \n",
    "    assembly_id = \"_\".join(fr.split(\"_\")[0:2])\n",
    "\n",
    "    gb_records = list(SeqIO.parse(ih_r, \"genbank\")) # relevant for gbk files with multiple contigs\n",
    "\n",
    "    for gb_record in gb_records:\n",
    "        l = [assembly_id, gb_record.name, gb_record.id, str(len(gb_record.seq)), gb_record.description ]\n",
    "        genomes_raw.loc[i] = np.array(l)\n",
    "        i += 1\n",
    "        \n",
    "genomes_raw.to_csv(outf_raw, index = False)        "
   ]
  },
  {
   "cell_type": "code",
   "execution_count": 77,
   "metadata": {},
   "outputs": [],
   "source": [
    "### Parse re-annotated GBK files from RAST ###\n",
    "\n",
    "# input files\n",
    "path_annot = \"/Users/sigalova/Desktop/Chlamydia_pangenome/data/genomes_combined_filt\"\n",
    "gbk_filenames_annot = fnmatch.filter(os.listdir(path_annot), 'D*.gbk')\n",
    "\n",
    "# data.frame to write info\n",
    "genomes_annot = pd.DataFrame(columns = [\"genome_id\", \"accession\"])\n",
    "i = 0\n",
    "\n",
    "# output file\n",
    "outf_annot = \"/Users/sigalova/Desktop/Chlamydia_pangenome/info/genome_info_by_contig_annot_filt_apr2019.csv\"\n",
    "try:\n",
    "    os.remove(outf_anot)\n",
    "except:\n",
    "    pass\n",
    "\n",
    "for fa in gbk_filenames_annot:\n",
    "\n",
    "    ih_r  = open(path_annot + \"/\" + fa, \"r\")\n",
    "    genome_id = fa[0:-4]\n",
    "\n",
    "    gb_records = list(SeqIO.parse(ih_r, \"genbank\")) # relevant for gbk files with multiple contigs\n",
    "\n",
    "    for gb_record in gb_records:\n",
    "        l = [genome_id, gb_record.name]\n",
    "        genomes_annot.loc[i] = np.array(l)\n",
    "        i += 1     \n",
    "        \n",
    "genomes_annot.to_csv(outf_annot, index = False)          "
   ]
  }
 ],
 "metadata": {
  "kernelspec": {
   "display_name": "Python 2",
   "language": "python",
   "name": "python2"
  },
  "language_info": {
   "codemirror_mode": {
    "name": "ipython",
    "version": 2
   },
   "file_extension": ".py",
   "mimetype": "text/x-python",
   "name": "python",
   "nbconvert_exporter": "python",
   "pygments_lexer": "ipython2",
   "version": "2.7.13"
  }
 },
 "nbformat": 4,
 "nbformat_minor": 2
}
